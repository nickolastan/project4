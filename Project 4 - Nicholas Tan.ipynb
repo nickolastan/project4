{
 "cells": [
  {
   "cell_type": "markdown",
   "metadata": {},
   "source": [
    "<img src=\"http://imgur.com/1ZcRyrc.png\" style=\"float: left; margin: 15px; height: 80px\">\n",
    "\n",
    "# Project 4\n",
    "\n",
    "## Analysis of data-related jobs in the market\n",
    "\n",
    "\n",
    "### Done by: Nicholas Tan (DSI-7)\n",
    "---\n",
    "## Objective\n",
    "\n",
    "The firm is rapidly expanding and wants to leverage on data, technology and scientific solutions to win more contacts and to be competitive in the Singapore hiring market. This analysis aims to examine the following:\n",
    "- Industry factors that are most important in predicting salary amounts of data-related jobs\n",
    "- Factors that distinguish a data scientist job title from other titles\n",
    "\n",
    "## Executive Summary\n",
    "\n",
    "This analysis identified the important factors required by data-related jobs with a high salary. These factors include seniority level, skills set (e.g. pattern recognition and implement solutions) and years of experience.\n",
    "\n",
    "The analysis also examined the tradeoff between telling a client incorrectly that they would get a lower salary job versus telling a client incorrectly that they would get a high salary job. The results showed that the chance of incorrectly telling a client that they would get a high salary job could be lowered from 10.6% to 4.3% (reduction of 6.3%). However, the tradeoff is that probability of incorrectly telling a client that they will get a low salary job is increased from 14.9% to 27.7% (increase of 12.8%). This will require the firm to make a business decision on the way ahead.\n",
    "\n",
    "In the next part of the analysis, which would be of interest to HR, important skills and key words that distinguish a data scientist job title from other titles were examined. These include data science, deep/machine learning and algorithms.\n",
    "\n",
    "## Analysis Approach\n",
    "\n",
    "1. The job dataset was scraped from careers future website. The more relevant job details include:\n",
    "    - Title\n",
    "    - Industry\n",
    "    - Salary\n",
    "    - Responsibilities\n",
    "    - Requirements\n",
    "    - Seniority  \n",
    "2. Exploratory data analysis (EDA) was used to prepare the dataset for machine learning models:\n",
    "    - New features were created to faciliate the analysis. These includes:\n",
    "        - Salary_class, i.e high, low. The median salary ($6500) was used as the criteria. \n",
    "        - Data_scientist, i.e. whether the job title mentioned is data scientist or similiar\n",
    "    - Some of the job postings which did not have salary were dropped.\n",
    "    - Use Natural Language Processing (NLP) techniques (i.e CountVectorizer) to process the text from job responsibilties and requirements columns   \n",
    "3. Model fitting:\n",
    "    - This analysis is framed as a classification problem, with salary_class and data_scientist being the target variable used for the first part and second part of the analysis respectively.\n",
    "    - Models used include Logistic Regression and Random Forest\n",
    "    - A search method was used to determine the optimum hyperparameters for the models.\n",
    "    - The dataset was split into training set (80%) and testing set (20%), with the training set used to train the models with cross-validation and testing set used to evaluate the model performance for prediction.\n",
    "    - The criteria used for model comparison is auc_roc_score which is a measure of aggregated classification performance.\n",
    "    - The features of importance can then be identified from the models.\n",
    "4. Model risks and limitations:\n",
    "    - A limitation of the first model is that it can only be used to predict whether the client would get a high or low salary, but not the absolute amount as it is a classification model and not a regression model. \n",
    "    - In the second part of the analysis where important skills and key words that distinguish a data scientist job titles from other titles, the dataset contains insufficient number of entries with data scientist explicitly as job title. Hence, other key words such as machine learning, NLP, image, algorithm and deep learning were assumed to be doing a data scientist role. Despite this, there is still insufficient number of entries and a resampling technique to upsample the minority class is required for the analysis.\n",
    "\n"
   ]
  },
  {
   "cell_type": "code",
   "execution_count": 1,
   "metadata": {},
   "outputs": [],
   "source": [
    "# import all the necessary libraries and functions\n",
    "\n",
    "# basic libraries\n",
    "import pandas as pd\n",
    "import numpy as np\n",
    "import matplotlib.pyplot as plt\n",
    "import seaborn as sns\n",
    "\n",
    "# sci-kit learn and nltk libraries for machine learning\n",
    "from sklearn.ensemble import RandomForestClassifier\n",
    "from sklearn.linear_model import LogisticRegression\n",
    "from sklearn.preprocessing import StandardScaler\n",
    "from sklearn.model_selection import train_test_split, GridSearchCV, StratifiedKFold\n",
    "from sklearn.metrics import roc_curve, roc_auc_score\n",
    "from sklearn.utils import resample\n",
    "from sklearn.feature_extraction.text import CountVectorizer\n",
    "from nltk.corpus import stopwords\n",
    "\n",
    "# reduce the warnings\n",
    "from warnings import filterwarnings\n",
    "filterwarnings('ignore')\n",
    "\n",
    "# for web scrapping of job and details\n",
    "from bs4 import BeautifulSoup\n",
    "import requests\n",
    "from datetime import date\n",
    "import time\n",
    "from time import sleep\n",
    "from selenium import webdriver\n",
    "from selenium.webdriver.chrome.options import Options\n",
    "chromedriver = \"/Users/nictan/Desktop/materials/classes/week-06/labs/python-webscraping_opentable-lab-master/chromedriver/chromedriver\"\n",
    "WINDOW_SIZE = \"1920,1080\"\n",
    "chrome_options = Options()  \n",
    "chrome_options.add_argument(\"--headless\")  \n",
    "chrome_options.add_argument(\"--window-size=%s\" % WINDOW_SIZE)\n",
    "\n",
    "# Random state for this project\n",
    "rng = 142\n",
    "\n",
    "%matplotlib inline \n",
    "plt.style.use('fivethirtyeight')"
   ]
  },
  {
   "cell_type": "markdown",
   "metadata": {},
   "source": [
    "### Scrapping of data from careers future website"
   ]
  },
  {
   "cell_type": "code",
   "execution_count": 2,
   "metadata": {
    "scrolled": true
   },
   "outputs": [],
   "source": [
    "# Scrapping of job links\n",
    "\n",
    "# # List of job search key words\n",
    "\n",
    "# jobs = ['data%20scientist', 'data%20analyst', 'research%20scientist',\n",
    "#         'business%20intelligence', 'research%20analyst',\n",
    "#         'data%20science', 'machine%20learning', 'deep%20learning', 'NLP','data%20analytics']\n",
    "# \n",
    "# # Create a dataframe to store the scrapped data\n",
    "# df = pd.DataFrame(columns=['title', 'company', 'jobcategory',\n",
    "#                            'salary', 'link', 'scraping_date', 'searchkeyword'])\n",
    "\n",
    "# for job in jobs:\n",
    "\n",
    "#     print('Scraping ', job)\n",
    "\n",
    "#     # scrap data from first 25 pages\n",
    "\n",
    "#     for i in range(25):\n",
    "\n",
    "#         url = 'https://www.mycareersfuture.sg/search?search={}&sortBy=new_posting_date&page={}'.format(job, i)\n",
    "\n",
    "#        # Use Selenium to get data from website which contains javascript\n",
    "\n",
    "#         driver = webdriver.Chrome(\n",
    "#             executable_path=chromedriver, chrome_options=chrome_options)\n",
    "#         driver.get(url)\n",
    "\n",
    "#         # Wait at least 5 second for page to load properly before getting html info\n",
    "#         time.sleep(5 + np.random.gamma(shape=3))\n",
    "\n",
    "#         html = driver.page_source\n",
    "#         driver.close()\n",
    "\n",
    "#         # Use BeautifulSoup to process the html info\n",
    "\n",
    "#         soup = BeautifulSoup(html, 'lxml')\n",
    "\n",
    "#         # Each page contains 20 job listings\n",
    "\n",
    "#         titles = soup.findAll('div', {'class': 'card relative'})\n",
    "\n",
    "#         # process the info and append it to a dataframe \n",
    "\n",
    "#         for title in titles:\n",
    "\n",
    "#             try:\n",
    "#                 entry = {'jobtitle': title.find('h1').text,\n",
    "#                          'company': title.find('p').text,\n",
    "#                          'jobindustry': title.findAll('p', {'name': 'category'})[0].text,\n",
    "#                          'salary': title.find('span', {'class': 'salary_range'}).text,\n",
    "#                          'link': 'https://www.mycareersfuture.sg'+title.find('a')['href'],\n",
    "#                          'scraping_date': date.today(),\n",
    "#                          'searchkeyword': job.replace('%20', ' ')}\n",
    "#                 df = df.append(pd.DataFrame(\n",
    "#                     data=entry, index=[0]), sort=False)\n",
    "\n",
    "#             except:\n",
    "#                 print('End of page')\n",
    "\n",
    "#         # Reset index and save data to a csv file after every page\n",
    "\n",
    "#         df.reset_index(drop=True, inplace=True)\n",
    "#         df.to_csv('links.csv')"
   ]
  },
  {
   "cell_type": "code",
   "execution_count": 3,
   "metadata": {},
   "outputs": [],
   "source": [
    "# # drop duplicates \n",
    "\n",
    "# df.drop_duplicates(subset='link',inplace=True)\n",
    "# df.reset_index(drop=True,inplace=True)\n",
    "\n",
    "# # Get min, max & average salary\n",
    "\n",
    "# df['min_salary'] = df.salary.apply(lambda x: float(\n",
    "#     x.replace(',', '').replace('$', '').split('to')[0]) if 'to' in x else np.nan)\n",
    "# df['max_salary'] = df.salary.apply(lambda x: float(\n",
    "#     x.replace(',', '').replace('$', '').split('to')[1]) if 'to' in x else np.nan)\n",
    "\n",
    "# # save results to csv\n",
    "# df.to_csv('links.csv')"
   ]
  },
  {
   "cell_type": "code",
   "execution_count": 4,
   "metadata": {
    "scrolled": true
   },
   "outputs": [],
   "source": [
    "# scrapping of individual job details\n",
    "\n",
    "# df_details = pd.DataFrame(columns=['responsibilities', 'requirements', 'skills_needed',\n",
    "#                            'job_id','employment','seniority','num','salarytype'])\n",
    "\n",
    "# for i in range(len(df)):\n",
    "\n",
    "#     print('Getting details for ', df.loc[i, 'title'], 'Num', i)\n",
    "\n",
    "#     url = df.loc[i, 'link']\n",
    "#     driver = webdriver.Chrome(executable_path=chromedriver,\n",
    "#                               chrome_options=chrome_options)\n",
    "#     driver.get(url)\n",
    "\n",
    "#     # Wait at least 15 second.\n",
    "#     time.sleep(15+np.random.gamma(shape=3))\n",
    "\n",
    "#     html = driver.page_source\n",
    "#     driver.close()\n",
    "\n",
    "#     soup = BeautifulSoup(html, 'lxml')\n",
    "\n",
    "#     # try/except is used to handle cases where there is missing info\n",
    "\n",
    "#     description = soup.find('div', {'id': 'job_description'})\n",
    "#     try:\n",
    "#         descr = description.text.replace('Roles & Responsibilities', '')\n",
    "#     except:\n",
    "#         descr = None\n",
    "\n",
    "#     requirement = soup.find('div', {'id': 'requirements'})\n",
    "#     try:\n",
    "#         req = requirement.text.replace('Requirements', '')\n",
    "#     except:\n",
    "#         req = None\n",
    "\n",
    "#     job_id = soup.findAll('span')\n",
    "\n",
    "#     employment = soup.find('p', {'id': 'employment_type'})\n",
    "#     try:\n",
    "#         emp = employment.text\n",
    "#     except:\n",
    "#         emp = None\n",
    "\n",
    "#     seniority = soup.find('p', {'id': 'seniority'})\n",
    "#     try:\n",
    "#         sen = seniority.text\n",
    "#     except:\n",
    "#         sen = None\n",
    "\n",
    "#     skills_needed = soup.findAll('div', {'class': 'pill-button dib ma1'})\n",
    "#     skill_list = []\n",
    "#     for skill in skills_needed:\n",
    "#         skill_list.append(skill.text)\n",
    "\n",
    "#     # check if the salary quoted is annually or monthly\n",
    "#     salarytype = soup.findAll('span',{'class':'salary_type'})\n",
    "#     try:\n",
    "#         sal = salarytype[0].text\n",
    "#     except:\n",
    "#         sal = None\n",
    "\n",
    "#     entry = {'responsibilities': descr,\n",
    "#              'requirements': req,\n",
    "#              'skills_needed': [skill_list],\n",
    "#              'job_id': job_id[2].text,\n",
    "#              'employment': emp,\n",
    "#              'seniority': sen,\n",
    "#              'num': i,\n",
    "#             'salarytype': sal}\n",
    "\n",
    "#     df_details = df_details.append(\n",
    "#         pd.DataFrame(data=entry, index=[0]), sort=False)\n",
    "#     df_details.reset_index(drop=True, inplace=True)\n",
    "#     df_details.to_csv('links_details.csv')"
   ]
  },
  {
   "cell_type": "code",
   "execution_count": 5,
   "metadata": {},
   "outputs": [],
   "source": [
    "# # combine df and df_details together\n",
    "\n",
    "# df = pd.concat([df,df_details], axis=1)\n",
    "# df.to_csv('compiled.csv')"
   ]
  },
  {
   "cell_type": "code",
   "execution_count": 6,
   "metadata": {},
   "outputs": [
    {
     "name": "stdout",
     "output_type": "stream",
     "text": [
      "<class 'pandas.core.frame.DataFrame'>\n",
      "RangeIndex: 1081 entries, 0 to 1080\n",
      "Data columns (total 16 columns):\n",
      "jobtitle            1081 non-null object\n",
      "company             1081 non-null object\n",
      "jobindustry         1081 non-null object\n",
      "salary              1081 non-null object\n",
      "link                1081 non-null object\n",
      "scraping_date       1081 non-null object\n",
      "searchkeyword       1081 non-null object\n",
      "responsibilities    1081 non-null object\n",
      "requirements        994 non-null object\n",
      "skills_needed       1081 non-null object\n",
      "job_id              1081 non-null object\n",
      "employment          1081 non-null object\n",
      "seniority           1049 non-null object\n",
      "min_salary          944 non-null float64\n",
      "max_salary          944 non-null float64\n",
      "salarytype          944 non-null object\n",
      "dtypes: float64(2), object(14)\n",
      "memory usage: 135.2+ KB\n"
     ]
    }
   ],
   "source": [
    "# read in saved results\n",
    "\n",
    "df = pd.read_csv('compiled.csv')\n",
    "df.info()"
   ]
  },
  {
   "cell_type": "markdown",
   "metadata": {},
   "source": [
    "Total of 1081 data science related jobs scraped from https://www.mycareersfuture.sg"
   ]
  },
  {
   "cell_type": "markdown",
   "metadata": {},
   "source": [
    "## Section 1: Industry factors that impact salary amounts of data-related jobs"
   ]
  },
  {
   "cell_type": "markdown",
   "metadata": {},
   "source": [
    "### EDA/Data Cleaning"
   ]
  },
  {
   "cell_type": "markdown",
   "metadata": {},
   "source": [
    "### Salary"
   ]
  },
  {
   "cell_type": "code",
   "execution_count": 7,
   "metadata": {},
   "outputs": [],
   "source": [
    "# standardise all the min_salary and max_salary to be monthly basis\n",
    "\n",
    "for i in range(len(df)):\n",
    "    if df.loc[i,'salarytype'] == 'Annually':\n",
    "        df.loc[i,'min_salary'] = df.loc[i,'min_salary']/12\n",
    "        df.loc[i,'max_salary'] = df.loc[i,'max_salary']/12\n",
    "\n",
    "df.drop(columns=['salary','link','scraping_date','job_id','salarytype','company'], inplace=True)"
   ]
  },
  {
   "cell_type": "code",
   "execution_count": 8,
   "metadata": {
    "scrolled": true
   },
   "outputs": [
    {
     "data": {
      "text/html": [
       "<div>\n",
       "<style scoped>\n",
       "    .dataframe tbody tr th:only-of-type {\n",
       "        vertical-align: middle;\n",
       "    }\n",
       "\n",
       "    .dataframe tbody tr th {\n",
       "        vertical-align: top;\n",
       "    }\n",
       "\n",
       "    .dataframe thead th {\n",
       "        text-align: right;\n",
       "    }\n",
       "</style>\n",
       "<table border=\"1\" class=\"dataframe\">\n",
       "  <thead>\n",
       "    <tr style=\"text-align: right;\">\n",
       "      <th></th>\n",
       "      <th>jobtitle</th>\n",
       "      <th>jobindustry</th>\n",
       "      <th>searchkeyword</th>\n",
       "      <th>responsibilities</th>\n",
       "      <th>requirements</th>\n",
       "      <th>skills_needed</th>\n",
       "      <th>employment</th>\n",
       "      <th>seniority</th>\n",
       "      <th>min_salary</th>\n",
       "      <th>max_salary</th>\n",
       "    </tr>\n",
       "  </thead>\n",
       "  <tbody>\n",
       "    <tr>\n",
       "      <th>270</th>\n",
       "      <td>Assistant Manager / Manager</td>\n",
       "      <td>Others</td>\n",
       "      <td>business intelligence</td>\n",
       "      <td>¬†  Compile complex data sets from a variety o...</td>\n",
       "      <td>Bachelor's degree in Mathematics, Computer Sc...</td>\n",
       "      <td>['Management', 'Customer Service', 'Sales', 'M...</td>\n",
       "      <td>Permanent</td>\n",
       "      <td>Senior Executive</td>\n",
       "      <td>5000.0</td>\n",
       "      <td>70000.0</td>\n",
       "    </tr>\n",
       "    <tr>\n",
       "      <th>873</th>\n",
       "      <td>Associate Analyst Mastercard Graduate Developm...</td>\n",
       "      <td>Banking and Finance</td>\n",
       "      <td>data analytics</td>\n",
       "      <td>Job Description Summary Overview  ‚Ä¢ MasterCa...</td>\n",
       "      <td>All About You Core Consulting Skills ‚Ä¢ Analy...</td>\n",
       "      <td>['Financial Modeling', 'Analysis', 'Management...</td>\n",
       "      <td>Permanent</td>\n",
       "      <td>Fresh/entry level</td>\n",
       "      <td>5000.0</td>\n",
       "      <td>50000.0</td>\n",
       "    </tr>\n",
       "    <tr>\n",
       "      <th>981</th>\n",
       "      <td>Front-End Developer</td>\n",
       "      <td>Banking and Finance ...</td>\n",
       "      <td>data analytics</td>\n",
       "      <td>About Standard Chartered¬† We are a leading in...</td>\n",
       "      <td>Ideal Candidate:¬† The successful candidate is...</td>\n",
       "      <td>['SQL', 'JavaScript', 'Java', 'Software Develo...</td>\n",
       "      <td>Full Time</td>\n",
       "      <td>Manager</td>\n",
       "      <td>10000.0</td>\n",
       "      <td>190000.0</td>\n",
       "    </tr>\n",
       "  </tbody>\n",
       "</table>\n",
       "</div>"
      ],
      "text/plain": [
       "                                              jobtitle  \\\n",
       "270                        Assistant Manager / Manager   \n",
       "873  Associate Analyst Mastercard Graduate Developm...   \n",
       "981                                Front-End Developer   \n",
       "\n",
       "                 jobindustry          searchkeyword  \\\n",
       "270                   Others  business intelligence   \n",
       "873      Banking and Finance         data analytics   \n",
       "981  Banking and Finance ...         data analytics   \n",
       "\n",
       "                                      responsibilities  \\\n",
       "270  ¬†  Compile complex data sets from a variety o...   \n",
       "873  Job Description Summary Overview  ‚Ä¢ MasterCa...   \n",
       "981  About Standard Chartered¬† We are a leading in...   \n",
       "\n",
       "                                          requirements  \\\n",
       "270   Bachelor's degree in Mathematics, Computer Sc...   \n",
       "873  All About You Core Consulting Skills ‚Ä¢ Analy...   \n",
       "981  Ideal Candidate:¬† The successful candidate is...   \n",
       "\n",
       "                                         skills_needed employment  \\\n",
       "270  ['Management', 'Customer Service', 'Sales', 'M...  Permanent   \n",
       "873  ['Financial Modeling', 'Analysis', 'Management...  Permanent   \n",
       "981  ['SQL', 'JavaScript', 'Java', 'Software Develo...  Full Time   \n",
       "\n",
       "             seniority  min_salary  max_salary  \n",
       "270   Senior Executive      5000.0     70000.0  \n",
       "873  Fresh/entry level      5000.0     50000.0  \n",
       "981            Manager     10000.0    190000.0  "
      ]
     },
     "execution_count": 8,
     "metadata": {},
     "output_type": "execute_result"
    }
   ],
   "source": [
    "# check if the max salary has typos\n",
    "df[df['max_salary'] > 30000]"
   ]
  },
  {
   "cell_type": "code",
   "execution_count": 9,
   "metadata": {},
   "outputs": [],
   "source": [
    "for i in df[df['max_salary'] > 30000].index:\n",
    "    df.loc[i,'max_salary'] = df.loc[i,'max_salary']/10"
   ]
  },
  {
   "cell_type": "code",
   "execution_count": 10,
   "metadata": {
    "scrolled": true
   },
   "outputs": [
    {
     "data": {
      "text/html": [
       "<div>\n",
       "<style scoped>\n",
       "    .dataframe tbody tr th:only-of-type {\n",
       "        vertical-align: middle;\n",
       "    }\n",
       "\n",
       "    .dataframe tbody tr th {\n",
       "        vertical-align: top;\n",
       "    }\n",
       "\n",
       "    .dataframe thead th {\n",
       "        text-align: right;\n",
       "    }\n",
       "</style>\n",
       "<table border=\"1\" class=\"dataframe\">\n",
       "  <thead>\n",
       "    <tr style=\"text-align: right;\">\n",
       "      <th></th>\n",
       "      <th>jobtitle</th>\n",
       "      <th>jobindustry</th>\n",
       "      <th>searchkeyword</th>\n",
       "      <th>responsibilities</th>\n",
       "      <th>requirements</th>\n",
       "      <th>skills_needed</th>\n",
       "      <th>employment</th>\n",
       "      <th>seniority</th>\n",
       "      <th>min_salary</th>\n",
       "      <th>max_salary</th>\n",
       "    </tr>\n",
       "  </thead>\n",
       "  <tbody>\n",
       "    <tr>\n",
       "      <th>296</th>\n",
       "      <td>Marketing and Admin Executive</td>\n",
       "      <td>Admin / Secretarial ...</td>\n",
       "      <td>business intelligence</td>\n",
       "      <td>Job Description / Function: Provide support in...</td>\n",
       "      <td>Diploma in Mass Communication/Marketing or eq...</td>\n",
       "      <td>['Marketing', 'Social Media', 'Marketing Commu...</td>\n",
       "      <td>Full Time</td>\n",
       "      <td>Fresh/entry level</td>\n",
       "      <td>1800.0</td>\n",
       "      <td>2200.0</td>\n",
       "    </tr>\n",
       "    <tr>\n",
       "      <th>348</th>\n",
       "      <td>Data Management and Analysis</td>\n",
       "      <td>Admin / Secretarial</td>\n",
       "      <td>business intelligence</td>\n",
       "      <td>‚Ä¢¬†¬†¬†¬†¬†¬†¬†¬†¬†¬†¬†¬†¬†¬†¬†¬†¬† Conduct ...</td>\n",
       "      <td>Requiremnet : (i)¬†¬†¬†¬†¬†¬†¬†¬†¬†¬†¬†¬†¬† On...</td>\n",
       "      <td>['Management', 'Leadership', 'Strategy', 'Mark...</td>\n",
       "      <td>Contract</td>\n",
       "      <td>Executive</td>\n",
       "      <td>1800.0</td>\n",
       "      <td>2000.0</td>\n",
       "    </tr>\n",
       "    <tr>\n",
       "      <th>732</th>\n",
       "      <td>Regional Operations Executive - Special Projects</td>\n",
       "      <td>Customer Service ...</td>\n",
       "      <td>machine learning</td>\n",
       "      <td>About Janio Janio is a cross-border logistics ...</td>\n",
       "      <td>1 to 3 years work experience in customer ser...</td>\n",
       "      <td>['Management', 'Project Management', 'Microsof...</td>\n",
       "      <td>Full Time</td>\n",
       "      <td>Executive</td>\n",
       "      <td>1000.0</td>\n",
       "      <td>3000.0</td>\n",
       "    </tr>\n",
       "    <tr>\n",
       "      <th>763</th>\n",
       "      <td>Perception Intern</td>\n",
       "      <td>Engineering</td>\n",
       "      <td>deep learning</td>\n",
       "      <td>‚Ä¢ Develop perception algorithms for pointclo...</td>\n",
       "      <td>‚Ä¢ Experience in either one or more of these ...</td>\n",
       "      <td>['Engineering', 'Mechanical Engineering', 'Sol...</td>\n",
       "      <td>Internship</td>\n",
       "      <td>Professional</td>\n",
       "      <td>1500.0</td>\n",
       "      <td>2000.0</td>\n",
       "    </tr>\n",
       "    <tr>\n",
       "      <th>925</th>\n",
       "      <td>IT Analyst (Fresh School Leaver are Welcome)</td>\n",
       "      <td>Consulting  ...</td>\n",
       "      <td>data analytics</td>\n",
       "      <td>Are you passionate about technology and loves ...</td>\n",
       "      <td>Your profile  Diploma¬†in Information Technolo...</td>\n",
       "      <td>['SQL', 'JavaScript', 'Java', 'Software Develo...</td>\n",
       "      <td>Permanent, Temporary, Contract, Freelance</td>\n",
       "      <td>Fresh/entry level, Junior Executive</td>\n",
       "      <td>1800.0</td>\n",
       "      <td>3500.0</td>\n",
       "    </tr>\n",
       "    <tr>\n",
       "      <th>991</th>\n",
       "      <td>IT Business Analysts</td>\n",
       "      <td>Consulting  ...</td>\n",
       "      <td>data analytics</td>\n",
       "      <td>Are you passionate about technology and loves ...</td>\n",
       "      <td>Your profile  Diploma/Degree in Information Te...</td>\n",
       "      <td>['SQL', 'Project Management', 'Java', 'Microso...</td>\n",
       "      <td>Permanent, Full Time</td>\n",
       "      <td>Fresh/entry level, Junior Executive</td>\n",
       "      <td>1800.0</td>\n",
       "      <td>3500.0</td>\n",
       "    </tr>\n",
       "    <tr>\n",
       "      <th>1012</th>\n",
       "      <td>IT Engineers</td>\n",
       "      <td>Consulting  ...</td>\n",
       "      <td>data analytics</td>\n",
       "      <td>Are you passionate about technology and loves ...</td>\n",
       "      <td>Your profile  Diploma/Degree in Information Te...</td>\n",
       "      <td>['Java', 'JavaScript', 'Software Development',...</td>\n",
       "      <td>Part Time, Permanent, Full Time</td>\n",
       "      <td>Fresh/entry level, Junior Executive</td>\n",
       "      <td>1800.0</td>\n",
       "      <td>3500.0</td>\n",
       "    </tr>\n",
       "    <tr>\n",
       "      <th>1037</th>\n",
       "      <td>Senior Specialist</td>\n",
       "      <td>Information Technology</td>\n",
       "      <td>data analytics</td>\n",
       "      <td>Drive the use of analytics in healthcare to d...</td>\n",
       "      <td>Bachelor's Degree in Business Analytics, Comp...</td>\n",
       "      <td>['Project Management', 'Healthcare', 'Healthca...</td>\n",
       "      <td>Permanent, Contract</td>\n",
       "      <td>Executive</td>\n",
       "      <td>550.0</td>\n",
       "      <td>9350.0</td>\n",
       "    </tr>\n",
       "    <tr>\n",
       "      <th>1040</th>\n",
       "      <td>Assistant Manager</td>\n",
       "      <td>Information Technology</td>\n",
       "      <td>data analytics</td>\n",
       "      <td>Drive the use of analytics in healthcare to d...</td>\n",
       "      <td>Bachelor's Degree in Business Analytics, Comp...</td>\n",
       "      <td>['Project Management', 'Healthcare', 'Healthca...</td>\n",
       "      <td>Permanent, Contract</td>\n",
       "      <td>Executive</td>\n",
       "      <td>550.0</td>\n",
       "      <td>9350.0</td>\n",
       "    </tr>\n",
       "  </tbody>\n",
       "</table>\n",
       "</div>"
      ],
      "text/plain": [
       "                                              jobtitle  \\\n",
       "296                      Marketing and Admin Executive   \n",
       "348                       Data Management and Analysis   \n",
       "732   Regional Operations Executive - Special Projects   \n",
       "763                                  Perception Intern   \n",
       "925       IT Analyst (Fresh School Leaver are Welcome)   \n",
       "991                               IT Business Analysts   \n",
       "1012                                      IT Engineers   \n",
       "1037                                 Senior Specialist   \n",
       "1040                                 Assistant Manager   \n",
       "\n",
       "                  jobindustry          searchkeyword  \\\n",
       "296   Admin / Secretarial ...  business intelligence   \n",
       "348       Admin / Secretarial  business intelligence   \n",
       "732      Customer Service ...       machine learning   \n",
       "763               Engineering          deep learning   \n",
       "925           Consulting  ...         data analytics   \n",
       "991           Consulting  ...         data analytics   \n",
       "1012          Consulting  ...         data analytics   \n",
       "1037   Information Technology         data analytics   \n",
       "1040   Information Technology         data analytics   \n",
       "\n",
       "                                       responsibilities  \\\n",
       "296   Job Description / Function: Provide support in...   \n",
       "348   ‚Ä¢¬†¬†¬†¬†¬†¬†¬†¬†¬†¬†¬†¬†¬†¬†¬†¬†¬† Conduct ...   \n",
       "732   About Janio Janio is a cross-border logistics ...   \n",
       "763   ‚Ä¢ Develop perception algorithms for pointclo...   \n",
       "925   Are you passionate about technology and loves ...   \n",
       "991   Are you passionate about technology and loves ...   \n",
       "1012  Are you passionate about technology and loves ...   \n",
       "1037   Drive the use of analytics in healthcare to d...   \n",
       "1040   Drive the use of analytics in healthcare to d...   \n",
       "\n",
       "                                           requirements  \\\n",
       "296    Diploma in Mass Communication/Marketing or eq...   \n",
       "348   Requiremnet : (i)¬†¬†¬†¬†¬†¬†¬†¬†¬†¬†¬†¬†¬† On...   \n",
       "732     1 to 3 years work experience in customer ser...   \n",
       "763   ‚Ä¢ Experience in either one or more of these ...   \n",
       "925   Your profile  Diploma¬†in Information Technolo...   \n",
       "991   Your profile  Diploma/Degree in Information Te...   \n",
       "1012  Your profile  Diploma/Degree in Information Te...   \n",
       "1037   Bachelor's Degree in Business Analytics, Comp...   \n",
       "1040   Bachelor's Degree in Business Analytics, Comp...   \n",
       "\n",
       "                                          skills_needed  \\\n",
       "296   ['Marketing', 'Social Media', 'Marketing Commu...   \n",
       "348   ['Management', 'Leadership', 'Strategy', 'Mark...   \n",
       "732   ['Management', 'Project Management', 'Microsof...   \n",
       "763   ['Engineering', 'Mechanical Engineering', 'Sol...   \n",
       "925   ['SQL', 'JavaScript', 'Java', 'Software Develo...   \n",
       "991   ['SQL', 'Project Management', 'Java', 'Microso...   \n",
       "1012  ['Java', 'JavaScript', 'Software Development',...   \n",
       "1037  ['Project Management', 'Healthcare', 'Healthca...   \n",
       "1040  ['Project Management', 'Healthcare', 'Healthca...   \n",
       "\n",
       "                                     employment  \\\n",
       "296                                   Full Time   \n",
       "348                                    Contract   \n",
       "732                                   Full Time   \n",
       "763                                  Internship   \n",
       "925   Permanent, Temporary, Contract, Freelance   \n",
       "991                        Permanent, Full Time   \n",
       "1012            Part Time, Permanent, Full Time   \n",
       "1037                        Permanent, Contract   \n",
       "1040                        Permanent, Contract   \n",
       "\n",
       "                                seniority  min_salary  max_salary  \n",
       "296                     Fresh/entry level      1800.0      2200.0  \n",
       "348                             Executive      1800.0      2000.0  \n",
       "732                             Executive      1000.0      3000.0  \n",
       "763                          Professional      1500.0      2000.0  \n",
       "925   Fresh/entry level, Junior Executive      1800.0      3500.0  \n",
       "991   Fresh/entry level, Junior Executive      1800.0      3500.0  \n",
       "1012  Fresh/entry level, Junior Executive      1800.0      3500.0  \n",
       "1037                            Executive       550.0      9350.0  \n",
       "1040                            Executive       550.0      9350.0  "
      ]
     },
     "execution_count": 10,
     "metadata": {},
     "output_type": "execute_result"
    }
   ],
   "source": [
    "# check if the min salary has typos\n",
    "df[df['min_salary'] < 2000]"
   ]
  },
  {
   "cell_type": "code",
   "execution_count": 11,
   "metadata": {},
   "outputs": [],
   "source": [
    "for i in [1037,1040]:\n",
    "    df.loc[i,'min_salary'] = df.loc[i,'min_salary']*10\n",
    "\n",
    "# compute avg salary of each entry\n",
    "df['avg_salary'] = (df['min_salary'] + df['max_salary'])/2\n",
    "\n",
    "# drop missing jobs with missing salary\n",
    "df.dropna(subset=['min_salary'],inplace=True)"
   ]
  },
  {
   "cell_type": "code",
   "execution_count": 12,
   "metadata": {},
   "outputs": [],
   "source": [
    "# Encode average salary as high (1) and low (0). Threshold is median monthly salary ($6500)\n",
    "\n",
    "df['salary_class'] = df['avg_salary'].apply(lambda x : 1 if x > df['avg_salary'].median() else 0)"
   ]
  },
  {
   "cell_type": "markdown",
   "metadata": {},
   "source": [
    "### Job category/Industry"
   ]
  },
  {
   "cell_type": "code",
   "execution_count": 13,
   "metadata": {},
   "outputs": [],
   "source": [
    "# data cleaning and remove duplicate jobs with same responsbilities description\n",
    "\n",
    "df['jobindustry'] = df['jobindustry'].apply(lambda x: x.replace(' ...', ''))\n",
    "df.drop_duplicates(subset='responsibilities',inplace=True)"
   ]
  },
  {
   "cell_type": "code",
   "execution_count": 14,
   "metadata": {},
   "outputs": [],
   "source": [
    "# manually identify that jobs in these category is not data science related, hence going to drop\n",
    "irrelevant_jobcat = ['Architecture / Interior Design', 'Customer Service', \n",
    "                     'Design', 'Environment / Health  ','Events / Promotions ', \n",
    "                     'F&B', 'General Management', 'Human Resources ', 'Insurance', \n",
    "                     'Healthcare / Pharmaceutical', 'Legal', 'Professional Services', \n",
    "                     'Real Estate / Property Management', 'Accounting / Auditing / Taxation', \n",
    "                     'Admin / Secretarial', 'Marketing / Public Relations ', \n",
    "                     'Purchasing / Merchandising', 'Sales / Retail ']"
   ]
  },
  {
   "cell_type": "code",
   "execution_count": 15,
   "metadata": {},
   "outputs": [
    {
     "name": "stdout",
     "output_type": "stream",
     "text": [
      "<class 'pandas.core.frame.DataFrame'>\n",
      "Int64Index: 702 entries, 0 to 1079\n",
      "Data columns (total 12 columns):\n",
      "jobtitle            702 non-null object\n",
      "jobindustry         702 non-null object\n",
      "searchkeyword       702 non-null object\n",
      "responsibilities    702 non-null object\n",
      "requirements        661 non-null object\n",
      "skills_needed       702 non-null object\n",
      "employment          702 non-null object\n",
      "seniority           697 non-null object\n",
      "min_salary          702 non-null float64\n",
      "max_salary          702 non-null float64\n",
      "avg_salary          702 non-null float64\n",
      "salary_class        702 non-null int64\n",
      "dtypes: float64(3), int64(1), object(8)\n",
      "memory usage: 71.3+ KB\n"
     ]
    }
   ],
   "source": [
    "# dataset after dropping jobs of irrelevant category\n",
    "df = df[~df['jobindustry'].isin(irrelevant_jobcat)]\n",
    "df.info()"
   ]
  },
  {
   "cell_type": "code",
   "execution_count": 16,
   "metadata": {},
   "outputs": [],
   "source": [
    "#drop irrelevant job\n",
    "df.drop(index=1012,inplace=True)\n",
    "df.reset_index(drop=True,inplace=True)"
   ]
  },
  {
   "cell_type": "code",
   "execution_count": 17,
   "metadata": {},
   "outputs": [],
   "source": [
    "# convert categorical column into numeric\n",
    "df = pd.concat([df, pd.get_dummies(df['jobindustry'],prefix='Industry_',drop_first=True)],axis=1)"
   ]
  },
  {
   "cell_type": "code",
   "execution_count": 18,
   "metadata": {},
   "outputs": [
    {
     "data": {
      "image/png": "[encoded data removed]",
      "text/plain": [
       "<Figure size 864x576 with 1 Axes>"
      ]
     },
     "metadata": {
      "needs_background": "light"
     },
     "output_type": "display_data"
    }
   ],
   "source": [
    "plt.figure(figsize=(12,8))\n",
    "sns.boxplot(data=df,y='jobindustry',x='avg_salary')\n",
    "plt.ylabel('')\n",
    "plt.xlabel('Average Monthly Salary ($)')\n",
    "plt.title('Boxplots of Monthly Salary by Industry')\n",
    "plt.axvline(x=6500)\n",
    "plt.show()\n",
    "\n",
    "# Median Salary is denoted by blue vertical line"
   ]
  },
  {
   "cell_type": "markdown",
   "metadata": {},
   "source": [
    "### Seniority"
   ]
  },
  {
   "cell_type": "code",
   "execution_count": 19,
   "metadata": {},
   "outputs": [
    {
     "data": {
      "text/html": [
       "<div>\n",
       "<style scoped>\n",
       "    .dataframe tbody tr th:only-of-type {\n",
       "        vertical-align: middle;\n",
       "    }\n",
       "\n",
       "    .dataframe tbody tr th {\n",
       "        vertical-align: top;\n",
       "    }\n",
       "\n",
       "    .dataframe thead th {\n",
       "        text-align: right;\n",
       "    }\n",
       "</style>\n",
       "<table border=\"1\" class=\"dataframe\">\n",
       "  <thead>\n",
       "    <tr style=\"text-align: right;\">\n",
       "      <th></th>\n",
       "      <th>jobtitle</th>\n",
       "      <th>jobindustry</th>\n",
       "      <th>searchkeyword</th>\n",
       "      <th>responsibilities</th>\n",
       "      <th>requirements</th>\n",
       "      <th>skills_needed</th>\n",
       "      <th>employment</th>\n",
       "      <th>seniority</th>\n",
       "      <th>min_salary</th>\n",
       "      <th>max_salary</th>\n",
       "      <th>...</th>\n",
       "      <th>Industry__Information Technology</th>\n",
       "      <th>Industry__Logistics / Supply Chain</th>\n",
       "      <th>Industry__Manufacturing</th>\n",
       "      <th>Industry__Others</th>\n",
       "      <th>Industry__Public / Civil Service</th>\n",
       "      <th>Industry__Risk Management</th>\n",
       "      <th>Industry__Sciences / Laboratory / R&amp;D</th>\n",
       "      <th>Industry__Security and Investigation</th>\n",
       "      <th>Industry__Telecommunications</th>\n",
       "      <th>Industry__Travel / Tourism</th>\n",
       "    </tr>\n",
       "  </thead>\n",
       "  <tbody>\n",
       "    <tr>\n",
       "      <th>107</th>\n",
       "      <td>Office of Planning - Manager (Data Analyst / S...</td>\n",
       "      <td>Education and Training</td>\n",
       "      <td>data scientist</td>\n",
       "      <td>You will be part of a new Data Analytics (DA) ...</td>\n",
       "      <td>NaN</td>\n",
       "      <td>['Management', 'Business Development', 'Strate...</td>\n",
       "      <td>Full Time</td>\n",
       "      <td>NaN</td>\n",
       "      <td>5700.0</td>\n",
       "      <td>6300.0</td>\n",
       "      <td>...</td>\n",
       "      <td>0</td>\n",
       "      <td>0</td>\n",
       "      <td>0</td>\n",
       "      <td>0</td>\n",
       "      <td>0</td>\n",
       "      <td>0</td>\n",
       "      <td>0</td>\n",
       "      <td>0</td>\n",
       "      <td>0</td>\n",
       "      <td>0</td>\n",
       "    </tr>\n",
       "    <tr>\n",
       "      <th>187</th>\n",
       "      <td>Senior Research &amp; Development Project Engineer...</td>\n",
       "      <td>Education and Training</td>\n",
       "      <td>research scientist</td>\n",
       "      <td>As a Senior R&amp;D Project Engineer/Scientist, yo...</td>\n",
       "      <td>NaN</td>\n",
       "      <td>['Matlab', 'Algorithms', 'C++', 'Machine Learn...</td>\n",
       "      <td>Full Time</td>\n",
       "      <td>NaN</td>\n",
       "      <td>3100.0</td>\n",
       "      <td>6199.0</td>\n",
       "      <td>...</td>\n",
       "      <td>0</td>\n",
       "      <td>0</td>\n",
       "      <td>0</td>\n",
       "      <td>0</td>\n",
       "      <td>0</td>\n",
       "      <td>0</td>\n",
       "      <td>0</td>\n",
       "      <td>0</td>\n",
       "      <td>0</td>\n",
       "      <td>0</td>\n",
       "    </tr>\n",
       "    <tr>\n",
       "      <th>640</th>\n",
       "      <td>Senior Manager  /  Manager  (Compliance)</td>\n",
       "      <td>Public / Civil Service</td>\n",
       "      <td>data analytics</td>\n",
       "      <td>Senior Manager / Manager¬† (Compliance)\\nThe S...</td>\n",
       "      <td>NaN</td>\n",
       "      <td>['Risk Management', 'Management', 'Leadership'...</td>\n",
       "      <td>Full Time</td>\n",
       "      <td>NaN</td>\n",
       "      <td>3000.0</td>\n",
       "      <td>6000.0</td>\n",
       "      <td>...</td>\n",
       "      <td>0</td>\n",
       "      <td>0</td>\n",
       "      <td>0</td>\n",
       "      <td>0</td>\n",
       "      <td>1</td>\n",
       "      <td>0</td>\n",
       "      <td>0</td>\n",
       "      <td>0</td>\n",
       "      <td>0</td>\n",
       "      <td>0</td>\n",
       "    </tr>\n",
       "    <tr>\n",
       "      <th>699</th>\n",
       "      <td>School of Management and Communication - Lectu...</td>\n",
       "      <td>Education and Training</td>\n",
       "      <td>data analytics</td>\n",
       "      <td>Job Responsibilities Facilitate student learni...</td>\n",
       "      <td>NaN</td>\n",
       "      <td>['Research', 'Teaching', 'Lecturing', 'Higher ...</td>\n",
       "      <td>Full Time</td>\n",
       "      <td>NaN</td>\n",
       "      <td>3700.0</td>\n",
       "      <td>6300.0</td>\n",
       "      <td>...</td>\n",
       "      <td>0</td>\n",
       "      <td>0</td>\n",
       "      <td>0</td>\n",
       "      <td>0</td>\n",
       "      <td>0</td>\n",
       "      <td>0</td>\n",
       "      <td>0</td>\n",
       "      <td>0</td>\n",
       "      <td>0</td>\n",
       "      <td>0</td>\n",
       "    </tr>\n",
       "    <tr>\n",
       "      <th>700</th>\n",
       "      <td>School of Engineering - Assistant Manager  /  ...</td>\n",
       "      <td>Education and Training</td>\n",
       "      <td>data analytics</td>\n",
       "      <td>Job Responsibilities:  Identify and develop bu...</td>\n",
       "      <td>NaN</td>\n",
       "      <td>['Management', 'Project Management', 'Leadersh...</td>\n",
       "      <td>Full Time</td>\n",
       "      <td>NaN</td>\n",
       "      <td>4200.0</td>\n",
       "      <td>7300.0</td>\n",
       "      <td>...</td>\n",
       "      <td>0</td>\n",
       "      <td>0</td>\n",
       "      <td>0</td>\n",
       "      <td>0</td>\n",
       "      <td>0</td>\n",
       "      <td>0</td>\n",
       "      <td>0</td>\n",
       "      <td>0</td>\n",
       "      <td>0</td>\n",
       "      <td>0</td>\n",
       "    </tr>\n",
       "  </tbody>\n",
       "</table>\n",
       "<p>5 rows × 27 columns</p>\n",
       "</div>"
      ],
      "text/plain": [
       "                                              jobtitle  \\\n",
       "107  Office of Planning - Manager (Data Analyst / S...   \n",
       "187  Senior Research & Development Project Engineer...   \n",
       "640           Senior Manager  /  Manager  (Compliance)   \n",
       "699  School of Management and Communication - Lectu...   \n",
       "700  School of Engineering - Assistant Manager  /  ...   \n",
       "\n",
       "                jobindustry       searchkeyword  \\\n",
       "107  Education and Training      data scientist   \n",
       "187  Education and Training  research scientist   \n",
       "640  Public / Civil Service      data analytics   \n",
       "699  Education and Training      data analytics   \n",
       "700  Education and Training      data analytics   \n",
       "\n",
       "                                      responsibilities requirements  \\\n",
       "107  You will be part of a new Data Analytics (DA) ...          NaN   \n",
       "187  As a Senior R&D Project Engineer/Scientist, yo...          NaN   \n",
       "640  Senior Manager / Manager¬† (Compliance)\\nThe S...          NaN   \n",
       "699  Job Responsibilities Facilitate student learni...          NaN   \n",
       "700  Job Responsibilities:  Identify and develop bu...          NaN   \n",
       "\n",
       "                                         skills_needed employment seniority  \\\n",
       "107  ['Management', 'Business Development', 'Strate...  Full Time       NaN   \n",
       "187  ['Matlab', 'Algorithms', 'C++', 'Machine Learn...  Full Time       NaN   \n",
       "640  ['Risk Management', 'Management', 'Leadership'...  Full Time       NaN   \n",
       "699  ['Research', 'Teaching', 'Lecturing', 'Higher ...  Full Time       NaN   \n",
       "700  ['Management', 'Project Management', 'Leadersh...  Full Time       NaN   \n",
       "\n",
       "     min_salary  max_salary             ...              \\\n",
       "107      5700.0      6300.0             ...               \n",
       "187      3100.0      6199.0             ...               \n",
       "640      3000.0      6000.0             ...               \n",
       "699      3700.0      6300.0             ...               \n",
       "700      4200.0      7300.0             ...               \n",
       "\n",
       "     Industry__Information Technology  Industry__Logistics / Supply Chain  \\\n",
       "107                                 0                                   0   \n",
       "187                                 0                                   0   \n",
       "640                                 0                                   0   \n",
       "699                                 0                                   0   \n",
       "700                                 0                                   0   \n",
       "\n",
       "     Industry__Manufacturing  Industry__Others  \\\n",
       "107                        0                 0   \n",
       "187                        0                 0   \n",
       "640                        0                 0   \n",
       "699                        0                 0   \n",
       "700                        0                 0   \n",
       "\n",
       "     Industry__Public / Civil Service  Industry__Risk Management  \\\n",
       "107                                 0                          0   \n",
       "187                                 0                          0   \n",
       "640                                 1                          0   \n",
       "699                                 0                          0   \n",
       "700                                 0                          0   \n",
       "\n",
       "     Industry__Sciences / Laboratory / R&D  \\\n",
       "107                                      0   \n",
       "187                                      0   \n",
       "640                                      0   \n",
       "699                                      0   \n",
       "700                                      0   \n",
       "\n",
       "     Industry__Security and Investigation  Industry__Telecommunications  \\\n",
       "107                                     0                             0   \n",
       "187                                     0                             0   \n",
       "640                                     0                             0   \n",
       "699                                     0                             0   \n",
       "700                                     0                             0   \n",
       "\n",
       "     Industry__Travel / Tourism  \n",
       "107                           0  \n",
       "187                           0  \n",
       "640                           0  \n",
       "699                           0  \n",
       "700                           0  \n",
       "\n",
       "[5 rows x 27 columns]"
      ]
     },
     "execution_count": 19,
     "metadata": {},
     "output_type": "execute_result"
    }
   ],
   "source": [
    "df[df.seniority.isnull()]"
   ]
  },
  {
   "cell_type": "code",
   "execution_count": 20,
   "metadata": {},
   "outputs": [],
   "source": [
    "#impute missing seniority tags based on description\n",
    "\n",
    "df.loc[107,'seniority'] = 'Manager'\n",
    "df.loc[187.,'seniority'] = 'Senior Executive'\n",
    "df.loc[640,'seniority'] = 'Manager'\n",
    "df.loc[699,'seniority'] = 'Professional'\n",
    "df.loc[700,'seniority'] = 'Manager'"
   ]
  },
  {
   "cell_type": "code",
   "execution_count": 21,
   "metadata": {},
   "outputs": [],
   "source": [
    "# convert categorical column into numeric\n",
    "\n",
    "df['seniority'] = df['seniority'].apply(lambda x : x.split(', '))\n",
    "df_seniority = df['seniority']\n",
    "df_seniority = pd.get_dummies(df_seniority.apply(pd.Series).stack()).sum(level=0)\n",
    "df_seniority.columns = [x.lower() for x in df_seniority.columns]\n",
    "# merge dataframes together\n",
    "df = pd.concat([df,df_seniority],axis=1)"
   ]
  },
  {
   "cell_type": "markdown",
   "metadata": {},
   "source": [
    "### Employment"
   ]
  },
  {
   "cell_type": "code",
   "execution_count": 22,
   "metadata": {},
   "outputs": [
    {
     "data": {
      "text/plain": [
       "Full Time                                    242\n",
       "Permanent                                    168\n",
       "Contract, Full Time                          118\n",
       "Permanent, Full Time                          94\n",
       "Contract                                      58\n",
       "Permanent, Contract                           10\n",
       "Permanent, Contract, Full Time                 4\n",
       "Full Time, Internship                          3\n",
       "Permanent, Temporary, Contract, Freelance      1\n",
       "Internship                                     1\n",
       "Temporary                                      1\n",
       "Contract, Internship                           1\n",
       "Name: employment, dtype: int64"
      ]
     },
     "execution_count": 22,
     "metadata": {},
     "output_type": "execute_result"
    }
   ],
   "source": [
    "df['employment'].value_counts()"
   ]
  },
  {
   "cell_type": "code",
   "execution_count": 23,
   "metadata": {},
   "outputs": [
    {
     "data": {
      "text/plain": [
       "Permanent              504\n",
       "Contract               177\n",
       "Permanent, Contract     15\n",
       "Internship               5\n",
       "Name: employment, dtype: int64"
      ]
     },
     "execution_count": 23,
     "metadata": {},
     "output_type": "execute_result"
    }
   ],
   "source": [
    "# data cleaning of employment column and group into fewer categories\n",
    "\n",
    "df['employment'] = df['employment'].apply(lambda x: x.replace(\n",
    "    \"Full Time\", 'Permanent') if x == \"Full Time\" else x)\n",
    "df['employment'] = df['employment'].apply(lambda x: x.replace(\n",
    "    \"Permanent, Full Time\", 'Permanent') if x == 'Permanent, Full Time' else x)\n",
    "df['employment'] = df['employment'].apply(lambda x: x.replace(\n",
    "    \"Contract, Internship\", 'Internship') if x == 'Contract, Internship' else x)\n",
    "df['employment'] = df['employment'].apply(lambda x: x.replace(\n",
    "    \"Full Time, Internship\", 'Internship') if x == 'Full Time, Internship' else x)\n",
    "df['employment'] = df['employment'].apply(lambda x: x.replace(\n",
    "    \"Contract, Full Time\", 'Contract') if x == 'Contract, Full Time' else x)\n",
    "df['employment'] = df['employment'].apply(lambda x: x.replace(\n",
    "    \"Temporary\", 'Contract') if x == 'Temporary' else x)\n",
    "df['employment'] = df['employment'].apply(lambda x: x.replace(\n",
    "    \"Permanent, Contract, Full Time\", 'Permanent, Contract') if x == 'Permanent, Contract, Full Time' else x)\n",
    "df['employment'] = df['employment'].apply(lambda x: x.replace(\n",
    "    \"Permanent, Temporary, Contract, Freelance\", 'Permanent, Contract')\n",
    "    if x == 'Permanent, Temporary, Contract, Freelance' else x)\n",
    "\n",
    "df['employment'].value_counts()"
   ]
  },
  {
   "cell_type": "code",
   "execution_count": 24,
   "metadata": {},
   "outputs": [],
   "source": [
    "# convert categorical column into numeric\n",
    "\n",
    "df['employment'] = df['employment'].apply(lambda x : x.split(', '))\n",
    "df_employment = df['employment']\n",
    "df_employment = pd.get_dummies(df_employment.apply(pd.Series).stack()).sum(level=0)\n",
    "df_employment.columns = [x.lower() for x in df_employment.columns]\n",
    "# merge dataframes together\n",
    "df = pd.concat([df,df_employment],axis=1)"
   ]
  },
  {
   "cell_type": "markdown",
   "metadata": {},
   "source": [
    "### Job titles"
   ]
  },
  {
   "cell_type": "code",
   "execution_count": 25,
   "metadata": {},
   "outputs": [],
   "source": [
    "# number of job titles containing data scientist\n",
    "\n",
    "df['data_scientist'] = 0\n",
    "for index in range(len(df)):\n",
    "    #print(df.loc[index,'jobtitle'])\n",
    "    jobtype = ['data scien', 'deep','nlp','machine','image','ml ','algorithm']\n",
    "    for type in jobtype:\n",
    "        if type in df.loc[index,'jobtitle'].lower():\n",
    "            df.loc[index,'data_scientist'] = 1\n",
    "    "
   ]
  },
  {
   "cell_type": "code",
   "execution_count": 26,
   "metadata": {},
   "outputs": [
    {
     "data": {
      "text/plain": [
       "0    555\n",
       "1    146\n",
       "Name: data_scientist, dtype: int64"
      ]
     },
     "execution_count": 26,
     "metadata": {},
     "output_type": "execute_result"
    }
   ],
   "source": [
    "df.data_scientist.value_counts()"
   ]
  },
  {
   "cell_type": "code",
   "execution_count": 27,
   "metadata": {},
   "outputs": [
    {
     "data": {
      "image/png": "[encoded data removed]",
      "text/plain": [
       "<Figure size 576x432 with 1 Axes>"
      ]
     },
     "metadata": {
      "needs_background": "light"
     },
     "output_type": "display_data"
    }
   ],
   "source": [
    "plt.figure(figsize=(8,6))\n",
    "sns.boxplot(x='data_scientist',y='avg_salary',data=df)\n",
    "plt.ylabel('Average Monthly Salary ($)')\n",
    "plt.xticks(ticks=[0,1],labels=['Non-Data Scientist', 'Data Scientist'])\n",
    "plt.xlabel('')\n",
    "plt.ylim([0, 30000])\n",
    "plt.title('Boxplots of Monthly Salary by Job Title')\n",
    "plt.axhline(y=6500)\n",
    "plt.show()\n",
    "\n",
    "# Median average monthly salary denoted by blue line"
   ]
  },
  {
   "cell_type": "markdown",
   "metadata": {},
   "source": [
    "The boxplot shows that the 50th percentile of a data scientist is slightly higher than the median average monthly salary of $6500."
   ]
  },
  {
   "cell_type": "code",
   "execution_count": 28,
   "metadata": {},
   "outputs": [
    {
     "name": "stdout",
     "output_type": "stream",
     "text": [
      "0.00003\n"
     ]
    }
   ],
   "source": [
    "# Hypothesis testing using one-tailed Ztest to test if mean salary of Data scientist is greater than $6500\n",
    "# Ho: mean salary is equal to $6500\n",
    "# H1: mean salary is greater than $6500\n",
    "\n",
    "data1 = df[df['data_scientist']==0]['avg_salary']\n",
    "\n",
    "from scipy import stats\n",
    "from statsmodels.stats import weightstats as stests\n",
    "\n",
    "ztest ,p = stests.ztest(data1, x2=None, value=6500)\n",
    "print('%0.5f' % float(p))"
   ]
  },
  {
   "cell_type": "markdown",
   "metadata": {},
   "source": [
    "At p < 5%, reject Ho and conclude that the mean of the data scientist monthly salary is higher than the median average salary of $6500"
   ]
  },
  {
   "cell_type": "markdown",
   "metadata": {},
   "source": [
    "### Skills needed"
   ]
  },
  {
   "cell_type": "code",
   "execution_count": 29,
   "metadata": {},
   "outputs": [],
   "source": [
    "# convert categorical column into numeric\n",
    "df['skills_needed'] = df['skills_needed'].apply(lambda x: x.replace(\n",
    "    '[', '').replace(']', '').replace(\"'\", \"\").split(', '))\n",
    "df_skills_needed = df['skills_needed']\n",
    "df_skills_needed = pd.get_dummies(\n",
    "    df_skills_needed.apply(pd.Series).stack()).sum(level=0)\n",
    "df_skills_needed.columns = [x.lower() for x in df_skills_needed.columns]\n",
    "# merge dataframes together\n",
    "df = pd.concat([df, df_skills_needed], axis=1)"
   ]
  },
  {
   "cell_type": "markdown",
   "metadata": {},
   "source": [
    "### Requirements & Responsibilites"
   ]
  },
  {
   "cell_type": "code",
   "execution_count": 30,
   "metadata": {},
   "outputs": [],
   "source": [
    "#some of missing requirements are with responsibilities column\n",
    "df.requirements.fillna(value='',inplace=True)"
   ]
  },
  {
   "cell_type": "code",
   "execution_count": 31,
   "metadata": {},
   "outputs": [],
   "source": [
    "# combine requirements and responsibilties and use NLP techniques to tokenize the words\n",
    "\n",
    "df['space'] = '. '\n",
    "temp_df = df['requirements'] + df['space'] + df['responsibilities']\n",
    "df.drop(columns='space',inplace=True)"
   ]
  },
  {
   "cell_type": "code",
   "execution_count": 32,
   "metadata": {},
   "outputs": [
    {
     "data": {
      "text/plain": [
       "(701, 5141)"
      ]
     },
     "execution_count": 32,
     "metadata": {},
     "output_type": "execute_result"
    }
   ],
   "source": [
    "stopWords = stopwords.words('english')\n",
    "\n",
    "vectorizer = CountVectorizer(stop_words=stopWords, ngram_range=(1,2),strip_accents='ascii',min_df=0.01,max_df=0.7)\n",
    "Xv = vectorizer.fit_transform(temp_df)\n",
    "\n",
    "df_compiled = pd.DataFrame(Xv.todense(), columns=vectorizer.get_feature_names())\n",
    "\n",
    "df_model1 = pd.concat([df,df_compiled],axis=1)\n",
    "\n",
    "# shape of df_model1 after vectorization\n",
    "df_model1.shape"
   ]
  },
  {
   "cell_type": "code",
   "execution_count": 33,
   "metadata": {},
   "outputs": [
    {
     "data": {
      "text/plain": [
       "(701, 4950)"
      ]
     },
     "execution_count": 33,
     "metadata": {},
     "output_type": "execute_result"
    }
   ],
   "source": [
    "# Reduce the dimensions of the dataframe by summing the counts of columns with the same name\n",
    "\n",
    "df_model1 = df_model1.groupby(level=0, axis=1).sum()\n",
    "df_model1.shape"
   ]
  },
  {
   "cell_type": "markdown",
   "metadata": {},
   "source": [
    "After data cleaning, left 701 out of the original 1081 jobs for model fitting."
   ]
  },
  {
   "cell_type": "markdown",
   "metadata": {},
   "source": [
    "### Data preparation for model fitting"
   ]
  },
  {
   "cell_type": "code",
   "execution_count": 34,
   "metadata": {},
   "outputs": [],
   "source": [
    "X = df_model1.drop(columns=['jobtitle', 'searchkeyword', 'responsibilities','seniority', 'employment', 'jobindustry',\n",
    "                     'requirements', 'skills_needed', 'min_salary', 'max_salary', 'avg_salary','salary_class'])\n",
    "y = df['salary_class']"
   ]
  },
  {
   "cell_type": "code",
   "execution_count": 35,
   "metadata": {},
   "outputs": [
    {
     "data": {
      "text/plain": [
       "0.499"
      ]
     },
     "execution_count": 35,
     "metadata": {},
     "output_type": "execute_result"
    }
   ],
   "source": [
    "# Baseline\n",
    "np.round(y.mean(),3)\n",
    "\n",
    "# expected to be 0.5 as median salary was used as the threshold to determine high vs low monthly salary"
   ]
  },
  {
   "cell_type": "code",
   "execution_count": 36,
   "metadata": {},
   "outputs": [],
   "source": [
    "# Train-test-split followed by StandardScaler to standardise data\n",
    "\n",
    "X_train, X_test, y_train, y_test = train_test_split(\n",
    "    X, y, test_size=0.2, random_state=rng, stratify=y)\n",
    "\n",
    "ss = StandardScaler()\n",
    "Xs_train = ss.fit_transform(X_train)\n",
    "Xs_test = ss.transform(X_test)"
   ]
  },
  {
   "cell_type": "markdown",
   "metadata": {},
   "source": [
    "### Model fitting"
   ]
  },
  {
   "cell_type": "code",
   "execution_count": 37,
   "metadata": {},
   "outputs": [
    {
     "name": "stdout",
     "output_type": "stream",
     "text": [
      "ROC AUC score: 0.72\n",
      "{'max_depth': 22}\n"
     ]
    },
    {
     "data": {
      "text/html": [
       "<div>\n",
       "<style scoped>\n",
       "    .dataframe tbody tr th:only-of-type {\n",
       "        vertical-align: middle;\n",
       "    }\n",
       "\n",
       "    .dataframe tbody tr th {\n",
       "        vertical-align: top;\n",
       "    }\n",
       "\n",
       "    .dataframe thead th {\n",
       "        text-align: right;\n",
       "    }\n",
       "</style>\n",
       "<table border=\"1\" class=\"dataframe\">\n",
       "  <thead>\n",
       "    <tr style=\"text-align: right;\">\n",
       "      <th></th>\n",
       "      <th>coef</th>\n",
       "      <th>variable</th>\n",
       "    </tr>\n",
       "  </thead>\n",
       "  <tbody>\n",
       "    <tr>\n",
       "      <th>4091</th>\n",
       "      <td>0.005812</td>\n",
       "      <td>solutions</td>\n",
       "    </tr>\n",
       "    <tr>\n",
       "      <th>3</th>\n",
       "      <td>0.004906</td>\n",
       "      <td>10 years</td>\n",
       "    </tr>\n",
       "    <tr>\n",
       "      <th>2</th>\n",
       "      <td>0.004646</td>\n",
       "      <td>10</td>\n",
       "    </tr>\n",
       "    <tr>\n",
       "      <th>4393</th>\n",
       "      <td>0.004400</td>\n",
       "      <td>team</td>\n",
       "    </tr>\n",
       "    <tr>\n",
       "      <th>2771</th>\n",
       "      <td>0.004328</td>\n",
       "      <td>microsoft office</td>\n",
       "    </tr>\n",
       "    <tr>\n",
       "      <th>1354</th>\n",
       "      <td>0.004181</td>\n",
       "      <td>drive</td>\n",
       "    </tr>\n",
       "    <tr>\n",
       "      <th>1873</th>\n",
       "      <td>0.004098</td>\n",
       "      <td>fresh/entry level</td>\n",
       "    </tr>\n",
       "    <tr>\n",
       "      <th>3399</th>\n",
       "      <td>0.003871</td>\n",
       "      <td>products</td>\n",
       "    </tr>\n",
       "    <tr>\n",
       "      <th>2478</th>\n",
       "      <td>0.003795</td>\n",
       "      <td>leading</td>\n",
       "    </tr>\n",
       "    <tr>\n",
       "      <th>2463</th>\n",
       "      <td>0.003787</td>\n",
       "      <td>latex</td>\n",
       "    </tr>\n",
       "  </tbody>\n",
       "</table>\n",
       "</div>"
      ],
      "text/plain": [
       "          coef           variable\n",
       "4091  0.005812          solutions\n",
       "3     0.004906           10 years\n",
       "2     0.004646                 10\n",
       "4393  0.004400               team\n",
       "2771  0.004328   microsoft office\n",
       "1354  0.004181              drive\n",
       "1873  0.004098  fresh/entry level\n",
       "3399  0.003871           products\n",
       "2478  0.003795            leading\n",
       "2463  0.003787              latex"
      ]
     },
     "execution_count": 37,
     "metadata": {},
     "output_type": "execute_result"
    }
   ],
   "source": [
    "# Model fitting (Random Forest)\n",
    "\n",
    "model = RandomForestClassifier(\n",
    "    random_state=rng, n_estimators=5000, class_weight='balanced')\n",
    "\n",
    "# use GridSearchCV to find best hyperparameter for the model\n",
    "parameters = {'max_depth': [20, 22, 24]}\n",
    "clf = GridSearchCV(model, parameters, cv=5, n_jobs=3, scoring='roc_auc')\n",
    "clf.fit(Xs_train, y_train)\n",
    "\n",
    "print('ROC AUC score: %0.2f' % roc_auc_score(\n",
    "    y_test, clf.best_estimator_.predict(Xs_test)))\n",
    "\n",
    "print(clf.best_params_)\n",
    "\n",
    "# Sort coefficients of the model to identify important features\n",
    "coefs_vars = pd.DataFrame({\n",
    "    'coef': clf.best_estimator_.feature_importances_,\n",
    "    'variable': X.columns\n",
    "})\n",
    "coefs_vars.sort_values('coef', ascending=False, inplace=True)\n",
    "coefs_vars.head(10)"
   ]
  },
  {
   "cell_type": "code",
   "execution_count": 38,
   "metadata": {},
   "outputs": [
    {
     "name": "stdout",
     "output_type": "stream",
     "text": [
      "ROC AUC score: 0.74\n",
      "{'C': 0.15}\n"
     ]
    },
    {
     "data": {
      "text/html": [
       "<div>\n",
       "<style scoped>\n",
       "    .dataframe tbody tr th:only-of-type {\n",
       "        vertical-align: middle;\n",
       "    }\n",
       "\n",
       "    .dataframe tbody tr th {\n",
       "        vertical-align: top;\n",
       "    }\n",
       "\n",
       "    .dataframe thead th {\n",
       "        text-align: right;\n",
       "    }\n",
       "</style>\n",
       "<table border=\"1\" class=\"dataframe\">\n",
       "  <thead>\n",
       "    <tr style=\"text-align: right;\">\n",
       "      <th></th>\n",
       "      <th>coef</th>\n",
       "      <th>variable</th>\n",
       "      <th>abscoef</th>\n",
       "    </tr>\n",
       "  </thead>\n",
       "  <tbody>\n",
       "    <tr>\n",
       "      <th>1873</th>\n",
       "      <td>-0.445910</td>\n",
       "      <td>fresh/entry level</td>\n",
       "      <td>0.445910</td>\n",
       "    </tr>\n",
       "    <tr>\n",
       "      <th>3</th>\n",
       "      <td>0.338865</td>\n",
       "      <td>10 years</td>\n",
       "      <td>0.338865</td>\n",
       "    </tr>\n",
       "    <tr>\n",
       "      <th>3136</th>\n",
       "      <td>0.319752</td>\n",
       "      <td>pattern recognition</td>\n",
       "      <td>0.319752</td>\n",
       "    </tr>\n",
       "    <tr>\n",
       "      <th>1315</th>\n",
       "      <td>-0.309493</td>\n",
       "      <td>discipline</td>\n",
       "      <td>0.309493</td>\n",
       "    </tr>\n",
       "    <tr>\n",
       "      <th>616</th>\n",
       "      <td>-0.300828</td>\n",
       "      <td>c++</td>\n",
       "      <td>0.300828</td>\n",
       "    </tr>\n",
       "    <tr>\n",
       "      <th>2152</th>\n",
       "      <td>0.279267</td>\n",
       "      <td>implementing</td>\n",
       "      <td>0.279267</td>\n",
       "    </tr>\n",
       "    <tr>\n",
       "      <th>4091</th>\n",
       "      <td>0.233878</td>\n",
       "      <td>solutions</td>\n",
       "      <td>0.233878</td>\n",
       "    </tr>\n",
       "    <tr>\n",
       "      <th>3424</th>\n",
       "      <td>0.233420</td>\n",
       "      <td>programme</td>\n",
       "      <td>0.233420</td>\n",
       "    </tr>\n",
       "    <tr>\n",
       "      <th>1354</th>\n",
       "      <td>0.217813</td>\n",
       "      <td>drive</td>\n",
       "      <td>0.217813</td>\n",
       "    </tr>\n",
       "    <tr>\n",
       "      <th>4247</th>\n",
       "      <td>0.215291</td>\n",
       "      <td>strong communication</td>\n",
       "      <td>0.215291</td>\n",
       "    </tr>\n",
       "  </tbody>\n",
       "</table>\n",
       "</div>"
      ],
      "text/plain": [
       "          coef              variable   abscoef\n",
       "1873 -0.445910     fresh/entry level  0.445910\n",
       "3     0.338865              10 years  0.338865\n",
       "3136  0.319752   pattern recognition  0.319752\n",
       "1315 -0.309493            discipline  0.309493\n",
       "616  -0.300828                   c++  0.300828\n",
       "2152  0.279267          implementing  0.279267\n",
       "4091  0.233878             solutions  0.233878\n",
       "3424  0.233420             programme  0.233420\n",
       "1354  0.217813                 drive  0.217813\n",
       "4247  0.215291  strong communication  0.215291"
      ]
     },
     "execution_count": 38,
     "metadata": {},
     "output_type": "execute_result"
    }
   ],
   "source": [
    "# Model fitting (Logistic Reqression)\n",
    "\n",
    "model = LogisticRegression(random_state=rng, penalty='l1', max_iter=1000)\n",
    "\n",
    "# use GridSearchCV to find best hyperparameter for the model\n",
    "parameters = {'C': [0.05,0.1, 0.15, 0.2]}\n",
    "clf = GridSearchCV(model, parameters, cv=5, n_jobs=-1, scoring='roc_auc')\n",
    "clf.fit(Xs_train, y_train)\n",
    "\n",
    "print('ROC AUC score: %0.2f' % roc_auc_score(\n",
    "    y_test, clf.best_estimator_.predict(Xs_test)))\n",
    "\n",
    "print(clf.best_params_)\n",
    "\n",
    "# Sort coefficients of the model to identify important features\n",
    "coefs_vars = pd.DataFrame({\n",
    "    'coef': clf.best_estimator_.coef_[0],\n",
    "    'variable': X.columns,\n",
    "    'abscoef': abs(clf.best_estimator_.coef_[0])\n",
    "})\n",
    "coefs_vars.sort_values('abscoef', ascending=False, inplace=True)\n",
    "coefs_vars.head(10)"
   ]
  },
  {
   "cell_type": "markdown",
   "metadata": {},
   "source": [
    "### Summary\n",
    "\n",
    "From the results above, the Logistic Regression model had a higher AUC_ROC_score of 0.74. Important features identified for a high salary job include seniority level, skills set (e.g. pattern recognition and implement solutions) and years of experience."
   ]
  },
  {
   "cell_type": "markdown",
   "metadata": {},
   "source": [
    "### Tradeoff Analysis\n",
    "\n",
    "To determine the tradeoff between telling a client incorrectly that they would get a lower salary job versus telling a client incorrectly that they would get a high salary job by adjusting the model. Among the 2 models, Logistic Regression model had a higher auc_roc_score. Hence, it will be used for this part of the analysis."
   ]
  },
  {
   "cell_type": "code",
   "execution_count": 39,
   "metadata": {
    "scrolled": true
   },
   "outputs": [
    {
     "data": {
      "text/html": [
       "<div>\n",
       "<style scoped>\n",
       "    .dataframe tbody tr th:only-of-type {\n",
       "        vertical-align: middle;\n",
       "    }\n",
       "\n",
       "    .dataframe tbody tr th {\n",
       "        vertical-align: top;\n",
       "    }\n",
       "\n",
       "    .dataframe thead th {\n",
       "        text-align: right;\n",
       "    }\n",
       "</style>\n",
       "<table border=\"1\" class=\"dataframe\">\n",
       "  <thead>\n",
       "    <tr style=\"text-align: right;\">\n",
       "      <th></th>\n",
       "      <th>LowSalary</th>\n",
       "      <th>HighSalary</th>\n",
       "      <th>true</th>\n",
       "      <th>threshold_0.3</th>\n",
       "      <th>threshold_0.5</th>\n",
       "    </tr>\n",
       "  </thead>\n",
       "  <tbody>\n",
       "    <tr>\n",
       "      <th>20</th>\n",
       "      <td>0.960484</td>\n",
       "      <td>0.039516</td>\n",
       "      <td>0</td>\n",
       "      <td>0</td>\n",
       "      <td>0</td>\n",
       "    </tr>\n",
       "    <tr>\n",
       "      <th>1</th>\n",
       "      <td>0.953794</td>\n",
       "      <td>0.046206</td>\n",
       "      <td>0</td>\n",
       "      <td>0</td>\n",
       "      <td>0</td>\n",
       "    </tr>\n",
       "    <tr>\n",
       "      <th>111</th>\n",
       "      <td>0.488220</td>\n",
       "      <td>0.511780</td>\n",
       "      <td>1</td>\n",
       "      <td>0</td>\n",
       "      <td>1</td>\n",
       "    </tr>\n",
       "    <tr>\n",
       "      <th>91</th>\n",
       "      <td>0.350334</td>\n",
       "      <td>0.649666</td>\n",
       "      <td>0</td>\n",
       "      <td>0</td>\n",
       "      <td>1</td>\n",
       "    </tr>\n",
       "    <tr>\n",
       "      <th>64</th>\n",
       "      <td>0.524967</td>\n",
       "      <td>0.475033</td>\n",
       "      <td>0</td>\n",
       "      <td>0</td>\n",
       "      <td>0</td>\n",
       "    </tr>\n",
       "  </tbody>\n",
       "</table>\n",
       "</div>"
      ],
      "text/plain": [
       "     LowSalary  HighSalary  true  threshold_0.3  threshold_0.5\n",
       "20    0.960484    0.039516     0              0              0\n",
       "1     0.953794    0.046206     0              0              0\n",
       "111   0.488220    0.511780     1              0              1\n",
       "91    0.350334    0.649666     0              0              1\n",
       "64    0.524967    0.475033     0              0              0"
      ]
     },
     "execution_count": 39,
     "metadata": {},
     "output_type": "execute_result"
    }
   ],
   "source": [
    "# use the Logistic Regression Model\n",
    "yhat = clf.best_estimator_.predict(Xs_test)\n",
    "yhat_pp = clf.best_estimator_.predict_proba(Xs_test)\n",
    "\n",
    "result = pd.DataFrame(yhat_pp,columns=['LowSalary','HighSalary'])\n",
    "result['true'] = y_test.reset_index(drop=True)\n",
    "\n",
    "# apply new threshold of 0.3\n",
    "result['threshold_0.3'] = result['LowSalary'].apply(lambda x :  0 if x >=0.3 else 1)\n",
    "result['threshold_0.5'] = result['LowSalary'].apply(lambda x :  0 if x >=0.5 else 1)\n",
    "\n",
    "result.sample(5)"
   ]
  },
  {
   "cell_type": "code",
   "execution_count": 40,
   "metadata": {},
   "outputs": [
    {
     "name": "stdout",
     "output_type": "stream",
     "text": [
      "------Original Threshold------\n",
      "Predicted          0          1        All\n",
      "Actual                                    \n",
      "0          39.716312  10.638298   50.35461\n",
      "1          14.893617  34.751773   49.64539\n",
      "All        54.609929  45.390071  100.00000\n",
      "\n",
      "------Adjusted Threshold------\n",
      "Predicted          0          1        All\n",
      "Actual                                    \n",
      "0          46.099291   4.255319   50.35461\n",
      "1          27.659574  21.985816   49.64539\n",
      "All        73.758865  26.241135  100.00000\n"
     ]
    }
   ],
   "source": [
    "# prints the confusion matrix for original and adjusted threshold \n",
    "# (i.e. threshold adjusted to 0.3, normally is 0.5)\n",
    "\n",
    "confusion_orig = pd.crosstab(y_test,\n",
    "                             yhat,\n",
    "                             rownames=['Actual'],\n",
    "                             colnames=['Predicted'],\n",
    "                             margins=True)\n",
    "\n",
    "confusion_adjusted = pd.crosstab(result['true'],\n",
    "                                 result['threshold_0.3'],\n",
    "                                 rownames=['Actual'],\n",
    "                                 colnames=['Predicted'],\n",
    "                                 margins=True)\n",
    "\n",
    "print('------Original Threshold------')\n",
    "print(confusion_orig/len(y_test)*100)\n",
    "print('')\n",
    "print('------Adjusted Threshold------')\n",
    "print(confusion_adjusted/len(y_test)*100)"
   ]
  },
  {
   "cell_type": "markdown",
   "metadata": {},
   "source": [
    "To lower the chance of incorrectly telling a client that they would get a high salary job, the threshold is lowered to 30%. As a result, the probability of incorrectly telling a client that they would get a high job is lowered from 10.6% to 4.3% (reduction of 6.3%). However, the tradeoff is that probability of incorrectly telling a client that they will get a low salary job is increased from 14.9% to 27.7% (increase of 12.8%)."
   ]
  },
  {
   "cell_type": "code",
   "execution_count": 41,
   "metadata": {},
   "outputs": [
    {
     "data": {
      "image/png": "[encoded data removed]",
      "text/plain": [
       "<Figure size 576x576 with 1 Axes>"
      ]
     },
     "metadata": {
      "needs_background": "light"
     },
     "output_type": "display_data"
    }
   ],
   "source": [
    "# Plot ROC curve\n",
    "\n",
    "fpr, tpr, _ = roc_curve(y_test, yhat_pp[:,1])\n",
    "roc_auc = roc_auc_score(y_test,yhat)\n",
    "\n",
    "plt.figure(figsize=[8,8])\n",
    "plt.plot(fpr, tpr, label='ROC curve (area = %0.2f)' % roc_auc, linewidth=4)\n",
    "plt.plot([0, 1], [0, 1], 'k--', linewidth=4)\n",
    "plt.xlim([-0.05, 1.05])\n",
    "plt.ylim([-0.05, 1.05])\n",
    "plt.xlabel('False Positive Rate', fontsize=18)\n",
    "plt.ylabel('True Positive Rate', fontsize=18)\n",
    "plt.title('Receiver operating characteristic: High Salary', fontsize=18)\n",
    "plt.legend(loc=\"lower right\")\n",
    "plt.show()"
   ]
  },
  {
   "cell_type": "markdown",
   "metadata": {},
   "source": [
    "## Section 2: Factors that distinguish a data scientist job title from other titles"
   ]
  },
  {
   "cell_type": "markdown",
   "metadata": {},
   "source": [
    "### Data preparation for model fitting"
   ]
  },
  {
   "cell_type": "code",
   "execution_count": 42,
   "metadata": {},
   "outputs": [
    {
     "name": "stdout",
     "output_type": "stream",
     "text": [
      "(701, 16260)\n"
     ]
    }
   ],
   "source": [
    "# remove additional stop word of scientist, otherwise it will \n",
    "# appear as important factor\n",
    "\n",
    "stopWords = stopwords.words('english') + ['scientist']\n",
    "\n",
    "vectorizer = CountVectorizer(stop_words=stopWords, ngram_range=(\n",
    "    1, 2), strip_accents='ascii', min_df=0.003)\n",
    "Xv = vectorizer.fit_transform(temp_df)\n",
    "\n",
    "df_compiled = pd.DataFrame(\n",
    "    Xv.todense(), columns=vectorizer.get_feature_names())\n",
    "\n",
    "df_model2 = pd.concat([df, df_compiled], axis=1)\n",
    "\n",
    "# shape of df after vectorization\n",
    "print(df_model2.shape)\n",
    "\n",
    "X = df_model2.drop(columns=['jobtitle', 'searchkeyword', 'responsibilities',\n",
    "                            'seniority', 'employment', 'jobindustry',\n",
    "                            'requirements', 'skills_needed', 'min_salary',\n",
    "                            'max_salary', 'avg_salary', 'salary_class', 'data_scientist'])\n",
    "y = df['data_scientist']"
   ]
  },
  {
   "cell_type": "code",
   "execution_count": 43,
   "metadata": {},
   "outputs": [
    {
     "data": {
      "text/plain": [
       "0.21"
      ]
     },
     "execution_count": 43,
     "metadata": {},
     "output_type": "execute_result"
    }
   ],
   "source": [
    "# Baseline, imbalanced dataset observed\n",
    "np.round(y.mean(),2)"
   ]
  },
  {
   "cell_type": "markdown",
   "metadata": {},
   "source": [
    "### Model fitting"
   ]
  },
  {
   "cell_type": "code",
   "execution_count": 44,
   "metadata": {},
   "outputs": [],
   "source": [
    "# train-test-split\n",
    "\n",
    "X_train_model2, X_test_model2, y_train_model2, y_test_model2 = train_test_split(\n",
    "    X, y, test_size=0.2, random_state=rng, stratify=y)\n",
    "\n",
    "skf = StratifiedKFold(n_splits=5)"
   ]
  },
  {
   "cell_type": "code",
   "execution_count": 45,
   "metadata": {},
   "outputs": [
    {
     "name": "stdout",
     "output_type": "stream",
     "text": [
      "C:  0.1\n",
      "Mean ROC AUC score: 0.77\n",
      "C:  0.15\n",
      "Mean ROC AUC score: 0.77\n",
      "C:  0.2\n",
      "Mean ROC AUC score: 0.76\n"
     ]
    }
   ],
   "source": [
    "# Model fitting (Logistic Regression)\n",
    "\n",
    "for C_value in [0.1,0.15,0.2]:\n",
    "    roc_auc_list = []\n",
    "\n",
    "    for train_index, test_index in skf.split(X_train_model2, y_train_model2):\n",
    "        X_train, X_test = X_train_model2.iloc[train_index,\n",
    "                                              :], X_train_model2.iloc[test_index, :]\n",
    "        y_train, y_test = y_train_model2.iloc[train_index], y_train_model2.iloc[test_index]\n",
    "\n",
    "        # prepare data to do resampling\n",
    "        df_combined = pd.concat([y_train, X_train], axis=1)\n",
    "        df_combined.rename(columns={0: 'data_scientist'}, inplace=True)\n",
    "\n",
    "        # Separate majority and minority classes\n",
    "        df_majority = df_combined[df_combined['data_scientist'] == 0]\n",
    "        df_minority = df_combined[df_combined['data_scientist'] == 1]\n",
    "\n",
    "        # Upsample minority class\n",
    "        df_minority_upsampled = resample(df_minority,\n",
    "                                         replace=True,     # sample with replacement\n",
    "                                         # to match majority class\n",
    "                                         n_samples=len(df_majority),\n",
    "                                         random_state=123)  # reproducible results\n",
    "\n",
    "        # Combine majority class with upsampled minority class\n",
    "        df_resampled = pd.concat([df_majority, df_minority_upsampled])\n",
    "\n",
    "        # split to get the new resampled target and predictors\n",
    "        X_train = df_resampled.drop(columns='data_scientist')\n",
    "        y_train = df_resampled['data_scientist']\n",
    "\n",
    "        Xs_train = ss.fit_transform(X_train)\n",
    "        Xs_test = ss.transform(X_test)\n",
    "\n",
    "        model = LogisticRegression(\n",
    "            C=C_value, random_state=rng, max_iter=1000, penalty='l1', n_jobs=-1)\n",
    "\n",
    "        model.fit(Xs_train, y_train)\n",
    "        y_pred = model.predict(Xs_test)\n",
    "        roc_auc_list.append(roc_auc_score(y_test, y_pred))\n",
    "\n",
    "    print('C: ', np.round(C_value,2))\n",
    "    print('Mean ROC AUC score: %0.2f' % np.mean(roc_auc_list))\n",
    "    #print('Raw: ', roc_auc_list)"
   ]
  },
  {
   "cell_type": "code",
   "execution_count": 46,
   "metadata": {},
   "outputs": [
    {
     "name": "stdout",
     "output_type": "stream",
     "text": [
      "ROC AUC score: 0.72\n"
     ]
    },
    {
     "data": {
      "text/html": [
       "<div>\n",
       "<style scoped>\n",
       "    .dataframe tbody tr th:only-of-type {\n",
       "        vertical-align: middle;\n",
       "    }\n",
       "\n",
       "    .dataframe tbody tr th {\n",
       "        vertical-align: top;\n",
       "    }\n",
       "\n",
       "    .dataframe thead th {\n",
       "        text-align: right;\n",
       "    }\n",
       "</style>\n",
       "<table border=\"1\" class=\"dataframe\">\n",
       "  <thead>\n",
       "    <tr style=\"text-align: right;\">\n",
       "      <th></th>\n",
       "      <th>coef</th>\n",
       "      <th>variable</th>\n",
       "      <th>abscoef</th>\n",
       "    </tr>\n",
       "  </thead>\n",
       "  <tbody>\n",
       "    <tr>\n",
       "      <th>600</th>\n",
       "      <td>-0.642792</td>\n",
       "      <td>teaching</td>\n",
       "      <td>0.642792</td>\n",
       "    </tr>\n",
       "    <tr>\n",
       "      <th>4126</th>\n",
       "      <td>0.532530</td>\n",
       "      <td>data science</td>\n",
       "      <td>0.532530</td>\n",
       "    </tr>\n",
       "    <tr>\n",
       "      <th>14246</th>\n",
       "      <td>-0.393596</td>\n",
       "      <td>system</td>\n",
       "      <td>0.393596</td>\n",
       "    </tr>\n",
       "    <tr>\n",
       "      <th>1282</th>\n",
       "      <td>0.332415</td>\n",
       "      <td>algorithms</td>\n",
       "      <td>0.332415</td>\n",
       "    </tr>\n",
       "    <tr>\n",
       "      <th>12247</th>\n",
       "      <td>-0.267142</td>\n",
       "      <td>research</td>\n",
       "      <td>0.267142</td>\n",
       "    </tr>\n",
       "    <tr>\n",
       "      <th>8409</th>\n",
       "      <td>0.265024</td>\n",
       "      <td>learning</td>\n",
       "      <td>0.265024</td>\n",
       "    </tr>\n",
       "    <tr>\n",
       "      <th>1474</th>\n",
       "      <td>0.248157</td>\n",
       "      <td>analytic</td>\n",
       "      <td>0.248157</td>\n",
       "    </tr>\n",
       "    <tr>\n",
       "      <th>4317</th>\n",
       "      <td>-0.243265</td>\n",
       "      <td>degree</td>\n",
       "      <td>0.243265</td>\n",
       "    </tr>\n",
       "    <tr>\n",
       "      <th>9379</th>\n",
       "      <td>0.243073</td>\n",
       "      <td>mining</td>\n",
       "      <td>0.243073</td>\n",
       "    </tr>\n",
       "    <tr>\n",
       "      <th>4687</th>\n",
       "      <td>-0.227360</td>\n",
       "      <td>development</td>\n",
       "      <td>0.227360</td>\n",
       "    </tr>\n",
       "  </tbody>\n",
       "</table>\n",
       "</div>"
      ],
      "text/plain": [
       "           coef      variable   abscoef\n",
       "600   -0.642792      teaching  0.642792\n",
       "4126   0.532530  data science  0.532530\n",
       "14246 -0.393596        system  0.393596\n",
       "1282   0.332415    algorithms  0.332415\n",
       "12247 -0.267142      research  0.267142\n",
       "8409   0.265024      learning  0.265024\n",
       "1474   0.248157      analytic  0.248157\n",
       "4317  -0.243265        degree  0.243265\n",
       "9379   0.243073        mining  0.243073\n",
       "4687  -0.227360   development  0.227360"
      ]
     },
     "execution_count": 46,
     "metadata": {},
     "output_type": "execute_result"
    }
   ],
   "source": [
    "# Use best hyperparameter to fit Logistic Regression model\n",
    "model = LogisticRegression(\n",
    "            C=0.15, random_state=rng, max_iter=1000, penalty='l1')\n",
    "model.fit(X_train_model2,y_train_model2)\n",
    "\n",
    "print('ROC AUC score: %0.2f' % roc_auc_score(y_test_model2,model.predict(X_test_model2)))\n",
    "\n",
    "# Sort coefficients of the model to identify important features\n",
    "coefs_vars = pd.DataFrame({\n",
    "        'coef':model.coef_[0],\n",
    "        'variable':X.columns,\n",
    "        'abscoef':abs(model.coef_[0])\n",
    "    })\n",
    "coefs_vars.sort_values('abscoef', ascending=False, inplace=True)\n",
    "coefs_vars.head(10)"
   ]
  },
  {
   "cell_type": "code",
   "execution_count": 47,
   "metadata": {},
   "outputs": [
    {
     "name": "stdout",
     "output_type": "stream",
     "text": [
      "Max_depth:  15\n",
      "Mean ROC AUC score:  0.75\n",
      "Max_depth:  20\n",
      "Mean ROC AUC score:  0.73\n",
      "Max_depth:  25\n",
      "Mean ROC AUC score:  0.73\n"
     ]
    }
   ],
   "source": [
    "# Model fitting (Random Forest)\n",
    "\n",
    "for depth_value in [15, 20, 25]:\n",
    "    roc_auc_list = []\n",
    "\n",
    "    for train_index, test_index in skf.split(X_train_model2, y_train_model2):\n",
    "        X_train, X_test = X_train_model2.iloc[train_index,\n",
    "                                              :], X_train_model2.iloc[test_index, :]\n",
    "        y_train, y_test = y_train_model2.iloc[train_index], y_train_model2.iloc[test_index]\n",
    "\n",
    "        # prepare data to do resampling\n",
    "        df_combined = pd.concat([y_train, X_train], axis=1)\n",
    "        df_combined.rename(columns={0: 'data_scientist'}, inplace=True)\n",
    "\n",
    "        # Separate majority and minority classes\n",
    "        df_majority = df_combined[df_combined['data_scientist'] == 0]\n",
    "        df_minority = df_combined[df_combined['data_scientist'] == 1]\n",
    "\n",
    "        # Upsample minority class\n",
    "        df_minority_upsampled = resample(df_minority,\n",
    "                                         replace=True,     # sample with replacement\n",
    "                                         # to match majority class\n",
    "                                         n_samples=len(df_majority),\n",
    "                                         random_state=123)  # reproducible results\n",
    "\n",
    "        # Combine majority class with upsampled minority class\n",
    "        df_resampled = pd.concat([df_majority, df_minority_upsampled])\n",
    "\n",
    "        # split to get the new resampled target and predictors\n",
    "        X_train = df_resampled.drop(columns='data_scientist')\n",
    "        y_train = df_resampled['data_scientist']\n",
    "\n",
    "        Xs_train = ss.fit_transform(X_train)\n",
    "        Xs_test = ss.transform(X_test)\n",
    "\n",
    "        model = RandomForestClassifier(max_depth=depth_value, random_state=rng,\n",
    "                                       n_estimators=5000, class_weight='balanced', n_jobs=-1)\n",
    "\n",
    "        model.fit(Xs_train, y_train)\n",
    "        y_pred = model.predict(Xs_test)\n",
    "        roc_auc_list.append(roc_auc_score(y_test, y_pred))\n",
    "\n",
    "    print('Max_depth: ', depth_value)\n",
    "    print('Mean ROC AUC score:  %0.2f' % np.mean(roc_auc_list))\n",
    "    #print('Raw: ', roc_auc_list)"
   ]
  },
  {
   "cell_type": "code",
   "execution_count": 48,
   "metadata": {},
   "outputs": [
    {
     "name": "stdout",
     "output_type": "stream",
     "text": [
      "ROC AUC score: 0.70\n"
     ]
    },
    {
     "data": {
      "text/html": [
       "<div>\n",
       "<style scoped>\n",
       "    .dataframe tbody tr th:only-of-type {\n",
       "        vertical-align: middle;\n",
       "    }\n",
       "\n",
       "    .dataframe tbody tr th {\n",
       "        vertical-align: top;\n",
       "    }\n",
       "\n",
       "    .dataframe thead th {\n",
       "        text-align: right;\n",
       "    }\n",
       "</style>\n",
       "<table border=\"1\" class=\"dataframe\">\n",
       "  <thead>\n",
       "    <tr style=\"text-align: right;\">\n",
       "      <th></th>\n",
       "      <th>coef</th>\n",
       "      <th>variable</th>\n",
       "    </tr>\n",
       "  </thead>\n",
       "  <tbody>\n",
       "    <tr>\n",
       "      <th>8409</th>\n",
       "      <td>0.012486</td>\n",
       "      <td>learning</td>\n",
       "    </tr>\n",
       "    <tr>\n",
       "      <th>8787</th>\n",
       "      <td>0.012155</td>\n",
       "      <td>machine learning</td>\n",
       "    </tr>\n",
       "    <tr>\n",
       "      <th>8785</th>\n",
       "      <td>0.011804</td>\n",
       "      <td>machine</td>\n",
       "    </tr>\n",
       "    <tr>\n",
       "      <th>11677</th>\n",
       "      <td>0.010460</td>\n",
       "      <td>python</td>\n",
       "    </tr>\n",
       "    <tr>\n",
       "      <th>4126</th>\n",
       "      <td>0.009743</td>\n",
       "      <td>data science</td>\n",
       "    </tr>\n",
       "    <tr>\n",
       "      <th>1282</th>\n",
       "      <td>0.007770</td>\n",
       "      <td>algorithms</td>\n",
       "    </tr>\n",
       "    <tr>\n",
       "      <th>3962</th>\n",
       "      <td>0.007199</td>\n",
       "      <td>data</td>\n",
       "    </tr>\n",
       "    <tr>\n",
       "      <th>12736</th>\n",
       "      <td>0.006939</td>\n",
       "      <td>science</td>\n",
       "    </tr>\n",
       "    <tr>\n",
       "      <th>8891</th>\n",
       "      <td>0.006745</td>\n",
       "      <td>management</td>\n",
       "    </tr>\n",
       "    <tr>\n",
       "      <th>9462</th>\n",
       "      <td>0.005432</td>\n",
       "      <td>models</td>\n",
       "    </tr>\n",
       "  </tbody>\n",
       "</table>\n",
       "</div>"
      ],
      "text/plain": [
       "           coef          variable\n",
       "8409   0.012486          learning\n",
       "8787   0.012155  machine learning\n",
       "8785   0.011804           machine\n",
       "11677  0.010460            python\n",
       "4126   0.009743      data science\n",
       "1282   0.007770        algorithms\n",
       "3962   0.007199              data\n",
       "12736  0.006939           science\n",
       "8891   0.006745        management\n",
       "9462   0.005432            models"
      ]
     },
     "execution_count": 48,
     "metadata": {},
     "output_type": "execute_result"
    }
   ],
   "source": [
    "# Use best hyperparameter to fit Random Forest model\n",
    "model = RandomForestClassifier(max_depth=15, random_state=rng,\n",
    "                                       n_estimators=5000, class_weight='balanced', n_jobs=-1)\n",
    "model.fit(X_train_model2,y_train_model2)\n",
    "print('ROC AUC score: %0.2f' % roc_auc_score(y_test_model2,model.predict(X_test_model2), average='weighted'))\n",
    "\n",
    "# Sort coefficients of the model to identify important features\n",
    "coefs_vars = pd.DataFrame({\n",
    "        'coef':model.feature_importances_,\n",
    "        'variable':X.columns\n",
    "    })\n",
    "coefs_vars.sort_values('coef', ascending=False, inplace=True)\n",
    "coefs_vars.head(10)"
   ]
  },
  {
   "cell_type": "markdown",
   "metadata": {},
   "source": [
    "### Summary\n",
    "\n",
    "From the results above, the Logistic Regression model has the higher ROC_AUC_score of 0.72. Important factors identified to distinguish between data scientist title and other titles include data science, deep/machine learning and algorithms."
   ]
  }
 ],
 "metadata": {
  "kernelspec": {
   "display_name": "Python 3",
   "language": "python",
   "name": "python3"
  },
  "language_info": {
   "codemirror_mode": {
    "name": "ipython",
    "version": 3
   },
   "file_extension": ".py",
   "mimetype": "text/x-python",
   "name": "python",
   "nbconvert_exporter": "python",
   "pygments_lexer": "ipython3",
   "version": "3.7.1"
  }
 },
 "nbformat": 4,
 "nbformat_minor": 2
}
